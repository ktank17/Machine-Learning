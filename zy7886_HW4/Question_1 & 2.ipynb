{
 "cells": [
  {
   "cell_type": "code",
   "execution_count": 1,
   "metadata": {},
   "outputs": [],
   "source": [
    "import pandas as pd\n",
    "from sklearn.tree import DecisionTreeClassifier # Import Decision Tree Classifier\n",
    "from sklearn.model_selection import train_test_split # Import train_test_split function\n",
    "from sklearn import metrics #Import scikit-learn metrics module for accuracy calculation\n",
    "import numpy as np\n",
    "from sklearn.metrics import accuracy_score\n",
    "from sklearn import tree\n",
    "import random\n",
    "import math\n",
    "from random import seed\n",
    "from random import random\n",
    "import matplotlib.pyplot as plt\n",
    "from sklearn.datasets import make_classification\n",
    "import seaborn as sns"
   ]
  },
  {
   "cell_type": "code",
   "execution_count": 2,
   "metadata": {},
   "outputs": [],
   "source": [
    "#Load the data\n",
    "df_tra = pd.read_csv(r\"C:\\Users\\Student\\Desktop\\Assignment 4\\optdigits (1).tra\", header=None)\n",
    "df_tes = pd.read_csv(r\"C:\\Users\\Student\\Desktop\\Assignment 4\\optdigits (1).tes\", header=None)\n",
    "\n",
    "df_tra_6 = df_tra[df_tra[64]==6]\n",
    "df_tra_9 = df_tra[df_tra[64]==9]\n",
    "\n",
    "df_tes_6 = df_tes[df_tes[64]==6]\n",
    "df_tes_9 = df_tes[df_tes[64]==9]\n",
    "\n",
    "df_tra_data = df_tra_6.append(df_tra_9) \n",
    "df_tes_data = df_tes_6.append(df_tes_9)"
   ]
  },
  {
   "cell_type": "code",
   "execution_count": 3,
   "metadata": {},
   "outputs": [],
   "source": [
    "def sigmoid(x):\n",
    "    return 1 / (1 + np.exp(-x))"
   ]
  },
  {
   "cell_type": "code",
   "execution_count": 4,
   "metadata": {},
   "outputs": [],
   "source": [
    "def compute_cost(X, y, theta):\n",
    "    m = len(y)\n",
    "    h = sigmoid(X @ theta)\n",
    "    epsilon = 1e-5\n",
    "    cost = (1/m)*(((-y).T @ np.log(h + epsilon))-((1-y).T @ np.log(1-h + epsilon)))\n",
    "    return cost"
   ]
  },
  {
   "cell_type": "code",
   "execution_count": 5,
   "metadata": {},
   "outputs": [],
   "source": [
    "def gradient_descent(X, y, params, learning_rate, iterations):\n",
    "    m = len(y)\n",
    "    cost_history = np.zeros((iterations,1))\n",
    "\n",
    "    for i in range(iterations):\n",
    "        params = params - (learning_rate/m) * (X.T @ (sigmoid(X @ params) - y)) \n",
    "        cost_history[i] = compute_cost(X, y, params)\n",
    "\n",
    "    return (cost_history, params)"
   ]
  },
  {
   "cell_type": "code",
   "execution_count": 6,
   "metadata": {},
   "outputs": [],
   "source": [
    "def predict(X, params):\n",
    "    return np.round(sigmoid(X @ params))"
   ]
  },
  {
   "cell_type": "code",
   "execution_count": 7,
   "metadata": {},
   "outputs": [],
   "source": [
    "X, y = make_classification(n_samples=500, n_features=2, n_redundant=0, n_informative=1,\n",
    "                             n_clusters_per_class=1, random_state=14)\n",
    "\n",
    "y = y[:,np.newaxis]"
   ]
  },
  {
   "cell_type": "code",
   "execution_count": 8,
   "metadata": {},
   "outputs": [
    {
     "name": "stdout",
     "output_type": "stream",
     "text": [
      "Initial Cost is: [[0.69312718]] \n",
      "\n",
      "Error: 0.050000000000000044\n",
      "Error: 0.052000000000000046\n",
      "Error: 0.04800000000000004\n",
      "Error: 0.052000000000000046\n",
      "Error: 0.04200000000000004\n",
      "Error: 0.03400000000000003\n",
      "Error: 0.030000000000000027\n",
      "Error: 0.03400000000000003\n",
      "Error: 0.03400000000000003\n",
      "Error: 0.03400000000000003\n"
     ]
    }
   ],
   "source": [
    "m = len(y)\n",
    "\n",
    "X = np.hstack((np.ones((m,1)),X))\n",
    "n = np.size(X,1)\n",
    "params = np.zeros((n,1))\n",
    "\n",
    "iterations = 1500\n",
    "\n",
    "initial_cost = compute_cost(X, y, params)\n",
    "\n",
    "print(\"Initial Cost is: {} \\n\".format(initial_cost))\n",
    "\n",
    "learning_rates = [0.0001, 0.0005, 0.005, 0.001, 0.01, 0.03, 0.05, 0.1, 0.3, 0.5]\n",
    "for learning_rate in learning_rates:\n",
    "    (cost_history, params_optimal) = gradient_descent(X, y, params, learning_rate, iterations)\n",
    "#     print(\"Optimal Parameters for learning rate \",learning_rate, \"is: \\n\", params_optimal, \"\\n\")\n",
    "    \n",
    "    y_pred = predict(X, params_optimal)\n",
    "    score = float(sum(y_pred == y))/ float(len(y))\n",
    "    print(\"Error: \"+str(1 - score))"
   ]
  },
  {
   "cell_type": "code",
   "execution_count": 9,
   "metadata": {},
   "outputs": [],
   "source": [
    "#Question 2"
   ]
  },
  {
   "cell_type": "code",
   "execution_count": 10,
   "metadata": {},
   "outputs": [
    {
     "data": {
      "text/plain": [
       "0      0.000000\n",
       "1      0.072022\n",
       "2      3.404432\n",
       "3     11.498615\n",
       "4     10.418283\n",
       "        ...    \n",
       "60    14.121884\n",
       "61    10.975069\n",
       "62     3.290859\n",
       "63     0.074792\n",
       "64     7.495845\n",
       "Length: 65, dtype: float64"
      ]
     },
     "execution_count": 10,
     "metadata": {},
     "output_type": "execute_result"
    }
   ],
   "source": [
    "#Fa\n",
    "learning_rates = [0.0001, 0.0005, 0.005, 0.001, 0.01, 0.03, 0.05, 0.1, 0.3, 0.5]\n",
    "for learning_rate in learning_rates:\n",
    "    (cost_history, params_optimal) = gradient_descent(X, y, params, learning_rate, iterations)\n",
    "#     print(\"Optimal Parameters for learning rate \",learning_rate, \"is: \\n\", params_optimal, \"\\n\")\n",
    "    \n",
    "    y_pred = predict(X, params_optimal)\n",
    "    score = float(sum(y_pred == y))/ float(len(y))\n",
    "    error = 1-score\n",
    "    \n",
    "mean = df_tes_data.mean()\n",
    "mean"
   ]
  },
  {
   "cell_type": "code",
   "execution_count": 11,
   "metadata": {},
   "outputs": [
    {
     "data": {
      "text/html": [
       "<div>\n",
       "<style scoped>\n",
       "    .dataframe tbody tr th:only-of-type {\n",
       "        vertical-align: middle;\n",
       "    }\n",
       "\n",
       "    .dataframe tbody tr th {\n",
       "        vertical-align: top;\n",
       "    }\n",
       "\n",
       "    .dataframe thead th {\n",
       "        text-align: right;\n",
       "    }\n",
       "</style>\n",
       "<table border=\"1\" class=\"dataframe\">\n",
       "  <thead>\n",
       "    <tr style=\"text-align: right;\">\n",
       "      <th></th>\n",
       "      <th>count</th>\n",
       "      <th>mean</th>\n",
       "      <th>std</th>\n",
       "      <th>min</th>\n",
       "      <th>25%</th>\n",
       "      <th>50%</th>\n",
       "      <th>75%</th>\n",
       "      <th>max</th>\n",
       "    </tr>\n",
       "  </thead>\n",
       "  <tbody>\n",
       "    <tr>\n",
       "      <th>0</th>\n",
       "      <td>361.0</td>\n",
       "      <td>0.000000</td>\n",
       "      <td>0.000000</td>\n",
       "      <td>0.0</td>\n",
       "      <td>0.0</td>\n",
       "      <td>0.0</td>\n",
       "      <td>0.0</td>\n",
       "      <td>0.0</td>\n",
       "    </tr>\n",
       "    <tr>\n",
       "      <th>1</th>\n",
       "      <td>361.0</td>\n",
       "      <td>0.072022</td>\n",
       "      <td>0.333864</td>\n",
       "      <td>0.0</td>\n",
       "      <td>0.0</td>\n",
       "      <td>0.0</td>\n",
       "      <td>0.0</td>\n",
       "      <td>4.0</td>\n",
       "    </tr>\n",
       "    <tr>\n",
       "      <th>2</th>\n",
       "      <td>361.0</td>\n",
       "      <td>3.404432</td>\n",
       "      <td>3.831504</td>\n",
       "      <td>0.0</td>\n",
       "      <td>0.0</td>\n",
       "      <td>2.0</td>\n",
       "      <td>6.0</td>\n",
       "      <td>15.0</td>\n",
       "    </tr>\n",
       "    <tr>\n",
       "      <th>3</th>\n",
       "      <td>361.0</td>\n",
       "      <td>11.498615</td>\n",
       "      <td>3.752869</td>\n",
       "      <td>0.0</td>\n",
       "      <td>10.0</td>\n",
       "      <td>13.0</td>\n",
       "      <td>14.0</td>\n",
       "      <td>16.0</td>\n",
       "    </tr>\n",
       "    <tr>\n",
       "      <th>4</th>\n",
       "      <td>361.0</td>\n",
       "      <td>10.418283</td>\n",
       "      <td>4.599468</td>\n",
       "      <td>0.0</td>\n",
       "      <td>7.0</td>\n",
       "      <td>12.0</td>\n",
       "      <td>14.0</td>\n",
       "      <td>16.0</td>\n",
       "    </tr>\n",
       "    <tr>\n",
       "      <th>...</th>\n",
       "      <td>...</td>\n",
       "      <td>...</td>\n",
       "      <td>...</td>\n",
       "      <td>...</td>\n",
       "      <td>...</td>\n",
       "      <td>...</td>\n",
       "      <td>...</td>\n",
       "      <td>...</td>\n",
       "    </tr>\n",
       "    <tr>\n",
       "      <th>60</th>\n",
       "      <td>361.0</td>\n",
       "      <td>14.121884</td>\n",
       "      <td>3.144942</td>\n",
       "      <td>0.0</td>\n",
       "      <td>14.0</td>\n",
       "      <td>15.0</td>\n",
       "      <td>16.0</td>\n",
       "      <td>16.0</td>\n",
       "    </tr>\n",
       "    <tr>\n",
       "      <th>61</th>\n",
       "      <td>361.0</td>\n",
       "      <td>10.975069</td>\n",
       "      <td>4.783878</td>\n",
       "      <td>0.0</td>\n",
       "      <td>8.0</td>\n",
       "      <td>12.0</td>\n",
       "      <td>15.0</td>\n",
       "      <td>16.0</td>\n",
       "    </tr>\n",
       "    <tr>\n",
       "      <th>62</th>\n",
       "      <td>361.0</td>\n",
       "      <td>3.290859</td>\n",
       "      <td>3.950548</td>\n",
       "      <td>0.0</td>\n",
       "      <td>0.0</td>\n",
       "      <td>1.0</td>\n",
       "      <td>6.0</td>\n",
       "      <td>16.0</td>\n",
       "    </tr>\n",
       "    <tr>\n",
       "      <th>63</th>\n",
       "      <td>361.0</td>\n",
       "      <td>0.074792</td>\n",
       "      <td>0.431344</td>\n",
       "      <td>0.0</td>\n",
       "      <td>0.0</td>\n",
       "      <td>0.0</td>\n",
       "      <td>0.0</td>\n",
       "      <td>6.0</td>\n",
       "    </tr>\n",
       "    <tr>\n",
       "      <th>64</th>\n",
       "      <td>361.0</td>\n",
       "      <td>7.495845</td>\n",
       "      <td>1.502076</td>\n",
       "      <td>6.0</td>\n",
       "      <td>6.0</td>\n",
       "      <td>6.0</td>\n",
       "      <td>9.0</td>\n",
       "      <td>9.0</td>\n",
       "    </tr>\n",
       "  </tbody>\n",
       "</table>\n",
       "<p>65 rows × 8 columns</p>\n",
       "</div>"
      ],
      "text/plain": [
       "    count       mean       std  min   25%   50%   75%   max\n",
       "0   361.0   0.000000  0.000000  0.0   0.0   0.0   0.0   0.0\n",
       "1   361.0   0.072022  0.333864  0.0   0.0   0.0   0.0   4.0\n",
       "2   361.0   3.404432  3.831504  0.0   0.0   2.0   6.0  15.0\n",
       "3   361.0  11.498615  3.752869  0.0  10.0  13.0  14.0  16.0\n",
       "4   361.0  10.418283  4.599468  0.0   7.0  12.0  14.0  16.0\n",
       "..    ...        ...       ...  ...   ...   ...   ...   ...\n",
       "60  361.0  14.121884  3.144942  0.0  14.0  15.0  16.0  16.0\n",
       "61  361.0  10.975069  4.783878  0.0   8.0  12.0  15.0  16.0\n",
       "62  361.0   3.290859  3.950548  0.0   0.0   1.0   6.0  16.0\n",
       "63  361.0   0.074792  0.431344  0.0   0.0   0.0   0.0   6.0\n",
       "64  361.0   7.495845  1.502076  6.0   6.0   6.0   9.0   9.0\n",
       "\n",
       "[65 rows x 8 columns]"
      ]
     },
     "execution_count": 11,
     "metadata": {},
     "output_type": "execute_result"
    }
   ],
   "source": [
    "#Fb\n",
    "df = df_tes_data.describe().transpose()\n",
    "df"
   ]
  },
  {
   "cell_type": "code",
   "execution_count": 12,
   "metadata": {},
   "outputs": [
    {
     "data": {
      "text/plain": [
       "0      0.000000\n",
       "1      0.111465\n",
       "2     14.680425\n",
       "3     14.084026\n",
       "4     21.155109\n",
       "        ...    \n",
       "60     9.890659\n",
       "61    22.885488\n",
       "62    15.606833\n",
       "63     0.186057\n",
       "64     2.256233\n",
       "Length: 65, dtype: float64"
      ]
     },
     "execution_count": 12,
     "metadata": {},
     "output_type": "execute_result"
    }
   ],
   "source": [
    "var = df_tes_data.var()\n",
    "var"
   ]
  },
  {
   "cell_type": "code",
   "execution_count": 13,
   "metadata": {},
   "outputs": [
    {
     "data": {
      "image/png": "[encoded data removed]",
      "text/plain": [
       "<Figure size 432x288 with 1 Axes>"
      ]
     },
     "metadata": {
      "needs_background": "light"
     },
     "output_type": "display_data"
    }
   ],
   "source": [
    "#Fc\n",
    "import matplotlib.pyplot as plt\n",
    "import pandas as pd\n",
    "\n",
    "df.plot(kind='scatter',x='mean',y='std',color='black')\n",
    "plt.show()"
   ]
  }
 ],
 "metadata": {
  "kernelspec": {
   "display_name": "Python 3",
   "language": "python",
   "name": "python3"
  },
  "language_info": {
   "codemirror_mode": {
    "name": "ipython",
    "version": 3
   },
   "file_extension": ".py",
   "mimetype": "text/x-python",
   "name": "python",
   "nbconvert_exporter": "python",
   "pygments_lexer": "ipython3",
   "version": "3.7.6"
  }
 },
 "nbformat": 4,
 "nbformat_minor": 4
}
