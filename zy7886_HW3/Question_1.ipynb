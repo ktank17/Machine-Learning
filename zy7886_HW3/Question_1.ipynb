{
 "cells": [
  {
   "cell_type": "code",
   "execution_count": 1,
   "metadata": {},
   "outputs": [],
   "source": [
    "import pandas as pd\n",
    "from sklearn.tree import DecisionTreeClassifier # Import Decision Tree Classifier\n",
    "from sklearn.model_selection import train_test_split # Import train_test_split function\n",
    "from sklearn import metrics #Import scikit-learn metrics module for accuracy calculation\n",
    "import numpy as np\n",
    "from sklearn.metrics import accuracy_score\n",
    "from sklearn import tree"
   ]
  },
  {
   "cell_type": "code",
   "execution_count": 2,
   "metadata": {},
   "outputs": [],
   "source": [
    "#Load the data\n",
    "df_tra = pd.read_csv(r\"C:\\Users\\Student\\Desktop\\Assignment 3\\optdigits.tra\", header=None)\n",
    "df_tes = pd.read_csv(r\"C:\\Users\\Student\\Desktop\\Assignment 3\\optdigits.tes\", header=None)\n",
    "\n",
    "df_tra_6 = df_tra[df_tra[64]==6]\n",
    "df_tra_9 = df_tra[df_tra[64]==9]\n",
    "\n",
    "df_tes_6 = df_tes[df_tes[64]==6]\n",
    "df_tes_9 = df_tes[df_tes[64]==9]"
   ]
  },
  {
   "cell_type": "code",
   "execution_count": 3,
   "metadata": {},
   "outputs": [],
   "source": [
    "#Randomly chosen N=100 instances from class 6 and randomly chosen N=100 instances from class 9\n",
    "X100_C69_tra = df_tra_6.sample(n = 100).append(df_tra_9) \n",
    "X100_C69_tes = df_tes_6.sample(n = 100).append(df_tes_9) \n",
    "\n",
    "#Randomly chosen N=100 instances from each of the classes\n",
    "X100_CAll_tra = df_tra.sample(n = 100) \n",
    "X100_CAll_tes = df_tes.sample(n = 100) \n",
    "\n",
    "#Randomly chosen N=500 instances from class 6 and randomly chosen N=500 instances from class 9\n",
    "X500_69_tra = df_tra_6.sample(n = 500, replace=True).append(df_tra_9) \n",
    "X500_69_tes = df_tes_6.sample(n = 500, replace=True).append(df_tes_9) \n",
    "\n",
    "#Randomly chosen N=500 instances from each of the classes\n",
    "X500_CAll_tra = df_tra.sample(n = 500) \n",
    "X500_CAll_tes = df_tes.sample(n = 500) "
   ]
  },
  {
   "cell_type": "code",
   "execution_count": 4,
   "metadata": {},
   "outputs": [
    {
     "name": "stdout",
     "output_type": "stream",
     "text": [
      "For Dataset X100_C69:\n",
      "Error for depth 2 : 0.0071428571428571175\n",
      "Error for depth 3 : 0.0071428571428571175\n",
      "Error for depth 5 : 0.0071428571428571175\n",
      "Error for depth 10 : 0.0071428571428571175\n"
     ]
    }
   ],
   "source": [
    "#calculating all the values for X100_C69\n",
    "X_train = X100_C69_tra.iloc[:,0:64]\n",
    "y_train = X100_C69_tra[64]\n",
    "X_test = X100_C69_tes.iloc[:,0:64]\n",
    "y_test = X100_C69_tes[64]\n",
    "\n",
    "print('For Dataset X100_C69:')\n",
    "\n",
    "# Create Decision Tree classifer object\n",
    "depth_values = [2, 3, 5, 10]\n",
    "for depth in depth_values:\n",
    "    decTreeObj = DecisionTreeClassifier(max_depth = depth)\n",
    "\n",
    "    # Train Decision Tree Classifer\n",
    "    decTreeObj = decTreeObj.fit(X_train,y_train)\n",
    "\n",
    "    #Predict the response for test dataset\n",
    "    y_pred = decTreeObj.predict(X_test)\n",
    "    \n",
    "    # Model Accuracy, how often is the classifier correct?\n",
    "    #print(\"Accuracy for depth \" + str(depth) + \" : \",metrics.accuracy_score(y_test, y_pred))\n",
    "    print(\"Error for depth \" + str(depth) + \" : \" + str(1 - metrics.accuracy_score(y_test, y_pred)))"
   ]
  },
  {
   "cell_type": "code",
   "execution_count": 5,
   "metadata": {},
   "outputs": [
    {
     "name": "stdout",
     "output_type": "stream",
     "text": [
      "For Dataset X500_C69:\n",
      "Error for depth 2 : 0.002941176470588225\n",
      "Error for depth 3 : 0.002941176470588225\n",
      "Error for depth 5 : 0.002941176470588225\n",
      "Error for depth 10 : 0.002941176470588225\n"
     ]
    }
   ],
   "source": [
    "#calculating all the values for X100_C69\n",
    "X_train = X500_69_tra.iloc[:,0:64]\n",
    "y_train = X500_69_tra[64]\n",
    "X_test = X500_69_tes.iloc[:,0:64]\n",
    "y_test = X500_69_tes[64]\n",
    "\n",
    "print('For Dataset X500_C69:')\n",
    "\n",
    "# Create Decision Tree classifer object\n",
    "depth_values = [2, 3, 5, 10]\n",
    "for depth in depth_values:\n",
    "    decTreeObj = DecisionTreeClassifier(max_depth = depth)\n",
    "\n",
    "    # Train Decision Tree Classifer\n",
    "    decTreeObj = decTreeObj.fit(X_train,y_train)\n",
    "\n",
    "    #Predict the response for test dataset\n",
    "    y_pred = decTreeObj.predict(X_test)\n",
    "    \n",
    "   # Model Accuracy, how often is the classifier correct?\n",
    "    #print(\"Accuracy for depth \" + str(depth) + \" : \",metrics.accuracy_score(y_test, y_pred))\n",
    "    print(\"Error for depth \" + str(depth) + \" : \" + str(1 - metrics.accuracy_score(y_test, y_pred)))"
   ]
  },
  {
   "cell_type": "code",
   "execution_count": 6,
   "metadata": {},
   "outputs": [
    {
     "name": "stdout",
     "output_type": "stream",
     "text": [
      "For Dataset X100_CAll:\n",
      "Error for depth 2 : 0.72\n",
      "Error for depth 3 : 0.5900000000000001\n",
      "Error for depth 5 : 0.41000000000000003\n",
      "Error for depth 10 : 0.44999999999999996\n"
     ]
    }
   ],
   "source": [
    "#calculating all the values for X100_C69\n",
    "X_train = X100_CAll_tra.iloc[:,0:64]\n",
    "y_train = X100_CAll_tra[64]\n",
    "X_test = X100_CAll_tes.iloc[:,0:64]\n",
    "y_test = X100_CAll_tes[64]\n",
    "\n",
    "print('For Dataset X100_CAll:')\n",
    "\n",
    "# Create Decision Tree classifer object\n",
    "depth_values = [2, 3, 5, 10]\n",
    "for depth in depth_values:\n",
    "    decTreeObj = DecisionTreeClassifier(max_depth = depth)\n",
    "\n",
    "    # Train Decision Tree Classifer\n",
    "    decTreeObj = decTreeObj.fit(X_train,y_train)\n",
    "\n",
    "    #Predict the response for test dataset\n",
    "    y_pred = decTreeObj.predict(X_test)\n",
    "    \n",
    "   # Model Accuracy, how often is the classifier correct?\n",
    "   # print(\"Accuracy for depth \" + str(depth) + \" : \",metrics.accuracy_score(y_test, y_pred))\n",
    "    print(\"Error for depth \" + str(depth) + \" : \" + str(1 - metrics.accuracy_score(y_test, y_pred)))"
   ]
  },
  {
   "cell_type": "code",
   "execution_count": 7,
   "metadata": {},
   "outputs": [
    {
     "name": "stdout",
     "output_type": "stream",
     "text": [
      "For Dataset X500_CAll:\n",
      "Error for depth 2 : 0.654\n",
      "Error for depth 3 : 0.44799999999999995\n",
      "Error for depth 5 : 0.31599999999999995\n",
      "Error for depth 10 : 0.23399999999999999\n"
     ]
    }
   ],
   "source": [
    "#calculating all the values for X100_C69\n",
    "X_train = X500_CAll_tra.iloc[:,0:64]\n",
    "y_train = X500_CAll_tra[64]\n",
    "X_test = X500_CAll_tes.iloc[:,0:64]\n",
    "y_test = X500_CAll_tes[64]\n",
    "\n",
    "print('For Dataset X500_CAll:')\n",
    "\n",
    "# Create Decision Tree classifer object\n",
    "depth_values = [2, 3, 5, 10]\n",
    "for depth in depth_values:\n",
    "    decTreeObj = DecisionTreeClassifier(max_depth = depth)\n",
    "\n",
    "    # Train Decision Tree Classifer\n",
    "    decTreeObj = decTreeObj.fit(X_train,y_train)\n",
    "\n",
    "    #Predict the response for test dataset\n",
    "    y_pred = decTreeObj.predict(X_test)\n",
    "    \n",
    "    # Model Accuracy, how often is the classifier correct?\n",
    "   # print(\"Accuracy for depth \" + str(depth) + \" : \",metrics.accuracy_score(y_test, y_pred))\n",
    "    print(\"Error for depth \" + str(depth) + \" : \" + str(1 - metrics.accuracy_score(y_test, y_pred)))"
   ]
  }
 ],
 "metadata": {
  "kernelspec": {
   "display_name": "Python 3",
   "language": "python",
   "name": "python3"
  },
  "language_info": {
   "codemirror_mode": {
    "name": "ipython",
    "version": 3
   },
   "file_extension": ".py",
   "mimetype": "text/x-python",
   "name": "python",
   "nbconvert_exporter": "python",
   "pygments_lexer": "ipython3",
   "version": "3.7.6"
  }
 },
 "nbformat": 4,
 "nbformat_minor": 4
}
